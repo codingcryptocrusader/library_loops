{
 "cells": [
  {
   "cell_type": "code",
   "execution_count": null,
   "metadata": {},
   "outputs": [],
   "source": [
    "# Define the dictionary with books and their availability\n",
    "library = {\n",
    "    \"The Hobbit\": \"Available\",\n",
    "    \"Slaughterhouse-Five\": \"Available\",\n",
    "    \"Moby Dick\": \"Available\",\n",
    "    \"The Catcher in the Rye\": \"Checked Out\",\n",
    "    \"Siddhartha\": \"Checked Out\",\n",
    "    \"Meditations\": \"Checked Out\",\n",
    "    \"Things Fall Apart\": \"Available\",\n",
    "    \"To Kill a Mockingbird\": \"Checked Out\",\n",
    "    \"Pride and Prejudice\": \"Available\",\n",
    "    \"Jane Eyre\": \"Checked Out\",\n",
    "    \"The Great Gatsby\": \"Available\",\n",
    "    \"War and Peace\": \"Checked Out\",\n",
    "    \"Crime and Punishment\": \"Available\",\n",
    "    \"Brave New World\": \"Available\",\n",
    "    \"A Tale of Two Cities\": \"Checked Out\",\n",
    "    \"Animal Farm\": \"Available\",\n",
    "    \"Dracula\": \"Checked Out\",\n",
    "    \"Frankenstein\": \"Available\",\n",
    "    \"The Road\": \"Available\",\n",
    "    \"The Alchemist\": \"Checked Out\"\n",
    "}\n",
    "# user input a variable that will be the letter to search for\n",
    "# use .upper() and .strip() to account for improper case or whitespace\n",
    "letter = input(\"Enter the starting letter: \").strip().upper()\n",
    "\n",
    "# Track and print matching books:\n",
    "# First, set a counter variable called match_count\n",
    "match_count = 0\n",
    "print(f\"\\nBooks starting with '{letter}' that are Available:\")\n",
    "\n",
    "# write a for loop that prints all book titles starting with letter that are Available\n",
    "# You are now accessing both the keys and their values, so you'll need to use library.items()\n",
    "for title, status in library.items():\n",
    "    if title.upper().startswith(letter) and status == \"Available\":\n",
    "        print(f\"- {title}\")\n",
    "        match_count += 1\n",
    "\n",
    "# Print total matches\n",
    "print(f\"\\nTotal matches: {match_count}\")"
   ]
  }
 ],
 "metadata": {
  "kernelspec": {
   "display_name": "Python 3",
   "language": "python",
   "name": "python3"
  },
  "language_info": {
   "codemirror_mode": {
    "name": "ipython",
    "version": 3
   },
   "file_extension": ".py",
   "mimetype": "text/x-python",
   "name": "python",
   "nbconvert_exporter": "python",
   "pygments_lexer": "ipython3",
   "version": "3.12.10"
  }
 },
 "nbformat": 4,
 "nbformat_minor": 2
}
